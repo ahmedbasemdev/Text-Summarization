{
  "nbformat": 4,
  "nbformat_minor": 0,
  "metadata": {
    "colab": {
      "provenance": []
    },
    "kernelspec": {
      "name": "python3",
      "display_name": "Python 3"
    },
    "language_info": {
      "name": "python"
    }
  },
  "cells": [
    {
      "cell_type": "code",
      "execution_count": 1,
      "metadata": {
        "colab": {
          "base_uri": "https://localhost:8080/"
        },
        "id": "ZSR-WfwGGHwc",
        "outputId": "095e2054-3805-4073-890a-0037465580a9"
      },
      "outputs": [
        {
          "output_type": "stream",
          "name": "stderr",
          "text": [
            "[nltk_data] Downloading package punkt to /root/nltk_data...\n",
            "[nltk_data]   Unzipping tokenizers/punkt.zip.\n"
          ]
        }
      ],
      "source": [
        "import pandas as pd\n",
        "import numpy as np\n",
        "import re\n",
        "import nltk\n",
        "nltk.download('punkt')\n",
        "from nltk.tokenize import sent_tokenize\n",
        "from tqdm import tqdm"
      ]
    },
    {
      "cell_type": "code",
      "source": [
        "data = pd.read_csv('tennis_articles_v4.csv',encoding = 'unicode-escape')\n",
        "data.head()"
      ],
      "metadata": {
        "colab": {
          "base_uri": "https://localhost:8080/",
          "height": 206
        },
        "id": "Rs0OpyuCGR2r",
        "outputId": "f569decc-0bf3-45b7-fb23-61fab2b84421"
      },
      "execution_count": 23,
      "outputs": [
        {
          "output_type": "execute_result",
          "data": {
            "text/plain": [
              "   article_id                                       article_text  \\\n",
              "0           1  Maria Sharapova has basically no friends as te...   \n",
              "1           2  BASEL, Switzerland (AP), Roger Federer advance...   \n",
              "2           3  Roger Federer has revealed that organisers of ...   \n",
              "3           4  Kei Nishikori will try to end his long losing ...   \n",
              "4           5  Federer, 37, first broke through on tour over ...   \n",
              "\n",
              "                                              source  \n",
              "0  https://www.tennisworldusa.org/tennis/news/Mar...  \n",
              "1  http://www.tennis.com/pro-game/2018/10/copil-s...  \n",
              "2  https://scroll.in/field/899938/tennis-roger-fe...  \n",
              "3  http://www.tennis.com/pro-game/2018/10/nishiko...  \n",
              "4  https://www.express.co.uk/sport/tennis/1036101...  "
            ],
            "text/html": [
              "\n",
              "  <div id=\"df-1e561445-62a0-4a81-bc97-25a5216ee67d\" class=\"colab-df-container\">\n",
              "    <div>\n",
              "<style scoped>\n",
              "    .dataframe tbody tr th:only-of-type {\n",
              "        vertical-align: middle;\n",
              "    }\n",
              "\n",
              "    .dataframe tbody tr th {\n",
              "        vertical-align: top;\n",
              "    }\n",
              "\n",
              "    .dataframe thead th {\n",
              "        text-align: right;\n",
              "    }\n",
              "</style>\n",
              "<table border=\"1\" class=\"dataframe\">\n",
              "  <thead>\n",
              "    <tr style=\"text-align: right;\">\n",
              "      <th></th>\n",
              "      <th>article_id</th>\n",
              "      <th>article_text</th>\n",
              "      <th>source</th>\n",
              "    </tr>\n",
              "  </thead>\n",
              "  <tbody>\n",
              "    <tr>\n",
              "      <th>0</th>\n",
              "      <td>1</td>\n",
              "      <td>Maria Sharapova has basically no friends as te...</td>\n",
              "      <td>https://www.tennisworldusa.org/tennis/news/Mar...</td>\n",
              "    </tr>\n",
              "    <tr>\n",
              "      <th>1</th>\n",
              "      <td>2</td>\n",
              "      <td>BASEL, Switzerland (AP), Roger Federer advance...</td>\n",
              "      <td>http://www.tennis.com/pro-game/2018/10/copil-s...</td>\n",
              "    </tr>\n",
              "    <tr>\n",
              "      <th>2</th>\n",
              "      <td>3</td>\n",
              "      <td>Roger Federer has revealed that organisers of ...</td>\n",
              "      <td>https://scroll.in/field/899938/tennis-roger-fe...</td>\n",
              "    </tr>\n",
              "    <tr>\n",
              "      <th>3</th>\n",
              "      <td>4</td>\n",
              "      <td>Kei Nishikori will try to end his long losing ...</td>\n",
              "      <td>http://www.tennis.com/pro-game/2018/10/nishiko...</td>\n",
              "    </tr>\n",
              "    <tr>\n",
              "      <th>4</th>\n",
              "      <td>5</td>\n",
              "      <td>Federer, 37, first broke through on tour over ...</td>\n",
              "      <td>https://www.express.co.uk/sport/tennis/1036101...</td>\n",
              "    </tr>\n",
              "  </tbody>\n",
              "</table>\n",
              "</div>\n",
              "    <div class=\"colab-df-buttons\">\n",
              "\n",
              "  <div class=\"colab-df-container\">\n",
              "    <button class=\"colab-df-convert\" onclick=\"convertToInteractive('df-1e561445-62a0-4a81-bc97-25a5216ee67d')\"\n",
              "            title=\"Convert this dataframe to an interactive table.\"\n",
              "            style=\"display:none;\">\n",
              "\n",
              "  <svg xmlns=\"http://www.w3.org/2000/svg\" height=\"24px\" viewBox=\"0 -960 960 960\">\n",
              "    <path d=\"M120-120v-720h720v720H120Zm60-500h600v-160H180v160Zm220 220h160v-160H400v160Zm0 220h160v-160H400v160ZM180-400h160v-160H180v160Zm440 0h160v-160H620v160ZM180-180h160v-160H180v160Zm440 0h160v-160H620v160Z\"/>\n",
              "  </svg>\n",
              "    </button>\n",
              "\n",
              "  <style>\n",
              "    .colab-df-container {\n",
              "      display:flex;\n",
              "      gap: 12px;\n",
              "    }\n",
              "\n",
              "    .colab-df-convert {\n",
              "      background-color: #E8F0FE;\n",
              "      border: none;\n",
              "      border-radius: 50%;\n",
              "      cursor: pointer;\n",
              "      display: none;\n",
              "      fill: #1967D2;\n",
              "      height: 32px;\n",
              "      padding: 0 0 0 0;\n",
              "      width: 32px;\n",
              "    }\n",
              "\n",
              "    .colab-df-convert:hover {\n",
              "      background-color: #E2EBFA;\n",
              "      box-shadow: 0px 1px 2px rgba(60, 64, 67, 0.3), 0px 1px 3px 1px rgba(60, 64, 67, 0.15);\n",
              "      fill: #174EA6;\n",
              "    }\n",
              "\n",
              "    .colab-df-buttons div {\n",
              "      margin-bottom: 4px;\n",
              "    }\n",
              "\n",
              "    [theme=dark] .colab-df-convert {\n",
              "      background-color: #3B4455;\n",
              "      fill: #D2E3FC;\n",
              "    }\n",
              "\n",
              "    [theme=dark] .colab-df-convert:hover {\n",
              "      background-color: #434B5C;\n",
              "      box-shadow: 0px 1px 3px 1px rgba(0, 0, 0, 0.15);\n",
              "      filter: drop-shadow(0px 1px 2px rgba(0, 0, 0, 0.3));\n",
              "      fill: #FFFFFF;\n",
              "    }\n",
              "  </style>\n",
              "\n",
              "    <script>\n",
              "      const buttonEl =\n",
              "        document.querySelector('#df-1e561445-62a0-4a81-bc97-25a5216ee67d button.colab-df-convert');\n",
              "      buttonEl.style.display =\n",
              "        google.colab.kernel.accessAllowed ? 'block' : 'none';\n",
              "\n",
              "      async function convertToInteractive(key) {\n",
              "        const element = document.querySelector('#df-1e561445-62a0-4a81-bc97-25a5216ee67d');\n",
              "        const dataTable =\n",
              "          await google.colab.kernel.invokeFunction('convertToInteractive',\n",
              "                                                    [key], {});\n",
              "        if (!dataTable) return;\n",
              "\n",
              "        const docLinkHtml = 'Like what you see? Visit the ' +\n",
              "          '<a target=\"_blank\" href=https://colab.research.google.com/notebooks/data_table.ipynb>data table notebook</a>'\n",
              "          + ' to learn more about interactive tables.';\n",
              "        element.innerHTML = '';\n",
              "        dataTable['output_type'] = 'display_data';\n",
              "        await google.colab.output.renderOutput(dataTable, element);\n",
              "        const docLink = document.createElement('div');\n",
              "        docLink.innerHTML = docLinkHtml;\n",
              "        element.appendChild(docLink);\n",
              "      }\n",
              "    </script>\n",
              "  </div>\n",
              "\n",
              "\n",
              "<div id=\"df-de9c3d4c-b7e3-4605-b919-2d4655039f41\">\n",
              "  <button class=\"colab-df-quickchart\" onclick=\"quickchart('df-de9c3d4c-b7e3-4605-b919-2d4655039f41')\"\n",
              "            title=\"Suggest charts.\"\n",
              "            style=\"display:none;\">\n",
              "\n",
              "<svg xmlns=\"http://www.w3.org/2000/svg\" height=\"24px\"viewBox=\"0 0 24 24\"\n",
              "     width=\"24px\">\n",
              "    <g>\n",
              "        <path d=\"M19 3H5c-1.1 0-2 .9-2 2v14c0 1.1.9 2 2 2h14c1.1 0 2-.9 2-2V5c0-1.1-.9-2-2-2zM9 17H7v-7h2v7zm4 0h-2V7h2v10zm4 0h-2v-4h2v4z\"/>\n",
              "    </g>\n",
              "</svg>\n",
              "  </button>\n",
              "\n",
              "<style>\n",
              "  .colab-df-quickchart {\n",
              "    background-color: #E8F0FE;\n",
              "    border: none;\n",
              "    border-radius: 50%;\n",
              "    cursor: pointer;\n",
              "    display: none;\n",
              "    fill: #1967D2;\n",
              "    height: 32px;\n",
              "    padding: 0 0 0 0;\n",
              "    width: 32px;\n",
              "  }\n",
              "\n",
              "  .colab-df-quickchart:hover {\n",
              "    background-color: #E2EBFA;\n",
              "    box-shadow: 0px 1px 2px rgba(60, 64, 67, 0.3), 0px 1px 3px 1px rgba(60, 64, 67, 0.15);\n",
              "    fill: #174EA6;\n",
              "  }\n",
              "\n",
              "  [theme=dark] .colab-df-quickchart {\n",
              "    background-color: #3B4455;\n",
              "    fill: #D2E3FC;\n",
              "  }\n",
              "\n",
              "  [theme=dark] .colab-df-quickchart:hover {\n",
              "    background-color: #434B5C;\n",
              "    box-shadow: 0px 1px 3px 1px rgba(0, 0, 0, 0.15);\n",
              "    filter: drop-shadow(0px 1px 2px rgba(0, 0, 0, 0.3));\n",
              "    fill: #FFFFFF;\n",
              "  }\n",
              "</style>\n",
              "\n",
              "  <script>\n",
              "    async function quickchart(key) {\n",
              "      const charts = await google.colab.kernel.invokeFunction(\n",
              "          'suggestCharts', [key], {});\n",
              "    }\n",
              "    (() => {\n",
              "      let quickchartButtonEl =\n",
              "        document.querySelector('#df-de9c3d4c-b7e3-4605-b919-2d4655039f41 button');\n",
              "      quickchartButtonEl.style.display =\n",
              "        google.colab.kernel.accessAllowed ? 'block' : 'none';\n",
              "    })();\n",
              "  </script>\n",
              "</div>\n",
              "    </div>\n",
              "  </div>\n"
            ]
          },
          "metadata": {},
          "execution_count": 23
        }
      ]
    },
    {
      "cell_type": "code",
      "source": [
        "print(f\"There are {data.shape[0]} Article in our data\")"
      ],
      "metadata": {
        "colab": {
          "base_uri": "https://localhost:8080/"
        },
        "id": "Z9HegHbS4sQU",
        "outputId": "3d9fb5e3-36a0-4fe6-a8c4-0047d96277e8"
      },
      "execution_count": 24,
      "outputs": [
        {
          "output_type": "stream",
          "name": "stdout",
          "text": [
            "There are 8 Article in our data\n"
          ]
        }
      ]
    },
    {
      "cell_type": "code",
      "source": [
        "data['article_text'][0]"
      ],
      "metadata": {
        "colab": {
          "base_uri": "https://localhost:8080/",
          "height": 122
        },
        "id": "VDXmHsaLGXah",
        "outputId": "f73b2f87-c295-4329-b6b1-a62ff98ed040"
      },
      "execution_count": 4,
      "outputs": [
        {
          "output_type": "execute_result",
          "data": {
            "text/plain": [
              "\"Maria Sharapova has basically no friends as tennis players on the WTA Tour. The Russian player has no problems in openly speaking about it and in a recent interview she said: 'I don't really hide any feelings too much. I think everyone knows this is my job here. When I'm on the courts or when I'm on the court playing, I'm a competitor and I want to beat every single person whether they're in the locker room or across the net.So I'm not the one to strike up a conversation about the weather and know that in the next few minutes I have to go and try to win a tennis match. I'm a pretty competitive girl. I say my hellos, but I'm not sending any players flowers as well. Uhm, I'm not really friendly or close to many players. I have not a lot of friends away from the courts.' When she said she is not really close to a lot of players, is that something strategic that she is doing? Is it different on the men's tour than the women's tour? 'No, not at all. I think just because you're in the same sport doesn't mean that you have to be friends with everyone just because you're categorized, you're a tennis player, so you're going to get along with tennis players. I think every person has different interests. I have friends that have completely different jobs and interests, and I've met them in very different parts of my life. I think everyone just thinks because we're tennis players we should be the greatest of friends. But ultimately tennis is just a very small part of what we do. There are so many other things that we're interested in, that we do.'\""
            ],
            "application/vnd.google.colaboratory.intrinsic+json": {
              "type": "string"
            }
          },
          "metadata": {},
          "execution_count": 4
        }
      ]
    },
    {
      "cell_type": "code",
      "source": [
        "data['article_text'][1]"
      ],
      "metadata": {
        "colab": {
          "base_uri": "https://localhost:8080/",
          "height": 122
        },
        "id": "4h4GBb2OGakw",
        "outputId": "5763bcc1-6e00-4d35-cf1e-75da2d53642f"
      },
      "execution_count": 5,
      "outputs": [
        {
          "output_type": "execute_result",
          "data": {
            "text/plain": [
              "\"BASEL, Switzerland (AP), Roger Federer advanced to the 14th Swiss Indoors final of his career by beating seventh-seeded Daniil Medvedev 6-1, 6-4 on Saturday. Seeking a ninth title at his hometown event, and a 99th overall, Federer will play 93th-ranked Marius Copil on Sunday. Federer dominated the 20th-ranked Medvedev and had his first match-point chance to break serve again at 5-1. He then dropped his serve to love, and let another match point slip in Medvedev's next service game by netting a backhand. He clinched on his fourth chance when Medvedev netted from the baseline. Copil upset expectations of a Federer final against Alexander Zverev in a 6-3, 6-7 (6), 6-4 win over the fifth-ranked German in the earlier semifinal. The Romanian aims for a first title after arriving at Basel without a career win over a top-10 opponent. Copil has two after also beating No. 6 Marin Cilic in the second round. Copil fired 26 aces past Zverev and never dropped serve, clinching after 2 1/2 hours with a forehand volley winner to break Zverev for the second time in the semifinal. He came through two rounds of qualifying last weekend to reach the Basel main draw, including beating Zverev's older brother, Mischa. Federer had an easier time than in his only previous match against Medvedev, a three-setter at Shanghai two weeks ago.\""
            ],
            "application/vnd.google.colaboratory.intrinsic+json": {
              "type": "string"
            }
          },
          "metadata": {},
          "execution_count": 5
        }
      ]
    },
    {
      "cell_type": "markdown",
      "source": [
        "### Split Text into Sentences\n"
      ],
      "metadata": {
        "id": "0kOJZ3lhGc6y"
      }
    },
    {
      "cell_type": "code",
      "source": [
        "sentences = []\n",
        "for sent in data['article_text']:\n",
        "    sentences.append(sent_tokenize(sent))"
      ],
      "metadata": {
        "id": "62siYB42GbnS"
      },
      "execution_count": 6,
      "outputs": []
    },
    {
      "cell_type": "code",
      "source": [
        "sentences = [y for x in sentences for y in x]"
      ],
      "metadata": {
        "id": "x4kcEXj6GeCH"
      },
      "execution_count": 7,
      "outputs": []
    },
    {
      "cell_type": "code",
      "source": [
        "sentences[0]"
      ],
      "metadata": {
        "colab": {
          "base_uri": "https://localhost:8080/",
          "height": 36
        },
        "id": "VTle0N2ZGhfo",
        "outputId": "0896f602-00da-471f-a250-fe2c113e1ba8"
      },
      "execution_count": 8,
      "outputs": [
        {
          "output_type": "execute_result",
          "data": {
            "text/plain": [
              "'Maria Sharapova has basically no friends as tennis players on the WTA Tour.'"
            ],
            "application/vnd.google.colaboratory.intrinsic+json": {
              "type": "string"
            }
          },
          "metadata": {},
          "execution_count": 8
        }
      ]
    },
    {
      "cell_type": "code",
      "source": [
        "clean_sentences = pd.Series(sentences).str.replace(\"[^a-zA-Z]\",\" \")\n",
        "clean_sentences = [s.lower() for s in clean_sentences]"
      ],
      "metadata": {
        "colab": {
          "base_uri": "https://localhost:8080/"
        },
        "id": "UVauGaJhH2-v",
        "outputId": "39b2ee5a-82fd-4bee-a722-db3d4ad865af"
      },
      "execution_count": 13,
      "outputs": [
        {
          "output_type": "stream",
          "name": "stderr",
          "text": [
            "<ipython-input-13-e24697245f80>:1: FutureWarning: The default value of regex will change from True to False in a future version.\n",
            "  clean_sentences = pd.Series(sentences).str.replace(\"[^a-zA-Z]\",\" \")\n"
          ]
        }
      ]
    },
    {
      "cell_type": "code",
      "source": [
        "nltk.download('stopwords')# one time execution"
      ],
      "metadata": {
        "colab": {
          "base_uri": "https://localhost:8080/"
        },
        "id": "T9LHY54R0agA",
        "outputId": "a6678b61-fefa-4fb5-ba42-83a631103d94"
      },
      "execution_count": 14,
      "outputs": [
        {
          "output_type": "stream",
          "name": "stderr",
          "text": [
            "[nltk_data] Downloading package stopwords to /root/nltk_data...\n",
            "[nltk_data]   Unzipping corpora/stopwords.zip.\n"
          ]
        },
        {
          "output_type": "execute_result",
          "data": {
            "text/plain": [
              "True"
            ]
          },
          "metadata": {},
          "execution_count": 14
        }
      ]
    },
    {
      "cell_type": "code",
      "source": [
        "from nltk.corpus import stopwords"
      ],
      "metadata": {
        "id": "zQWOq3Zb3X_j"
      },
      "execution_count": 15,
      "outputs": []
    },
    {
      "cell_type": "code",
      "source": [
        "stop_words = stopwords.words('english')"
      ],
      "metadata": {
        "id": "Ivx6hUY_3bjq"
      },
      "execution_count": 16,
      "outputs": []
    },
    {
      "cell_type": "code",
      "source": [
        "def remove_stop_words(sent):\n",
        "  sent = \" \".join([ word for word in sent if word not in stop_words])\n",
        "  return sent"
      ],
      "metadata": {
        "id": "rO84XTl73fpL"
      },
      "execution_count": 18,
      "outputs": []
    },
    {
      "cell_type": "code",
      "source": [
        "clean_sentences = [remove_stop_words(sent.split()) for sent in clean_sentences]"
      ],
      "metadata": {
        "id": "RMV5LJMW36Aa"
      },
      "execution_count": 19,
      "outputs": []
    },
    {
      "cell_type": "code",
      "source": [],
      "metadata": {
        "id": "_Zb7D6xR4VP7"
      },
      "execution_count": null,
      "outputs": []
    },
    {
      "cell_type": "markdown",
      "source": [
        "### Download GloVe Word Embeddings\n"
      ],
      "metadata": {
        "id": "y3N8wT-94ZIT"
      }
    },
    {
      "cell_type": "code",
      "source": [
        "!wget http://nlp.stanford.edu/data/glove.6B.zip\n",
        "!unzip glove*.zip"
      ],
      "metadata": {
        "id": "5aJizh7P4YUa"
      },
      "execution_count": null,
      "outputs": []
    },
    {
      "cell_type": "code",
      "source": [
        "word_embeddings = {}\n",
        "f = open('glove.6B.100d.txt','r', encoding='utf-8')\n",
        "for line in tqdm(f):\n",
        "  values_split = line.split()\n",
        "  word = values_split[0]\n",
        "  weights = np.array(values_split[1:], dtype=np.float32)\n",
        "  word_embeddings[word] = weights\n",
        "f.close()"
      ],
      "metadata": {
        "colab": {
          "base_uri": "https://localhost:8080/"
        },
        "id": "nGpXCNIC4cRa",
        "outputId": "36b7392c-3107-4bb7-8390-89ea650f04db"
      },
      "execution_count": 20,
      "outputs": [
        {
          "output_type": "stream",
          "name": "stderr",
          "text": [
            "400000it [00:13, 30641.68it/s]\n"
          ]
        }
      ]
    },
    {
      "cell_type": "code",
      "source": [
        "word_embeddings[\"hello\"]"
      ],
      "metadata": {
        "colab": {
          "base_uri": "https://localhost:8080/"
        },
        "id": "bgoEt1Kq4e4C",
        "outputId": "a9ca9400-85ff-4658-dc70-ad51247b239c"
      },
      "execution_count": 21,
      "outputs": [
        {
          "output_type": "execute_result",
          "data": {
            "text/plain": [
              "array([ 0.26688  ,  0.39632  ,  0.6169   , -0.77451  , -0.1039   ,\n",
              "        0.26697  ,  0.2788   ,  0.30992  ,  0.0054685, -0.085256 ,\n",
              "        0.73602  , -0.098432 ,  0.5479   , -0.030305 ,  0.33479  ,\n",
              "        0.14094  , -0.0070003,  0.32569  ,  0.22902  ,  0.46557  ,\n",
              "       -0.19531  ,  0.37491  , -0.7139   , -0.51775  ,  0.77039  ,\n",
              "        1.0881   , -0.66011  , -0.16234  ,  0.9119   ,  0.21046  ,\n",
              "        0.047494 ,  1.0019   ,  1.1133   ,  0.70094  , -0.08696  ,\n",
              "        0.47571  ,  0.1636   , -0.44469  ,  0.4469   , -0.93817  ,\n",
              "        0.013101 ,  0.085964 , -0.67456  ,  0.49662  , -0.037827 ,\n",
              "       -0.11038  , -0.28612  ,  0.074606 , -0.31527  , -0.093774 ,\n",
              "       -0.57069  ,  0.66865  ,  0.45307  , -0.34154  , -0.7166   ,\n",
              "       -0.75273  ,  0.075212 ,  0.57903  , -0.1191   , -0.11379  ,\n",
              "       -0.10026  ,  0.71341  , -1.1574   , -0.74026  ,  0.40452  ,\n",
              "        0.18023  ,  0.21449  ,  0.37638  ,  0.11239  , -0.53639  ,\n",
              "       -0.025092 ,  0.31886  , -0.25013  , -0.63283  , -0.011843 ,\n",
              "        1.377    ,  0.86013  ,  0.20476  , -0.36815  , -0.68874  ,\n",
              "        0.53512  , -0.46556  ,  0.27389  ,  0.4118   , -0.854    ,\n",
              "       -0.046288 ,  0.11304  , -0.27326  ,  0.15636  , -0.20334  ,\n",
              "        0.53586  ,  0.59784  ,  0.60469  ,  0.13735  ,  0.42232  ,\n",
              "       -0.61279  , -0.38486  ,  0.35842  , -0.48464  ,  0.30728  ],\n",
              "      dtype=float32)"
            ]
          },
          "metadata": {},
          "execution_count": 21
        }
      ]
    },
    {
      "cell_type": "code",
      "source": [
        "sentence_vectors = []\n",
        "\n",
        "for sent in clean_sentences:\n",
        "  if len(sent) !=0 :\n",
        "    vector = sum([word_embeddings.get(word, np.zeros((100,))) for word in sent.split()]) / (len(sent.split()) + 0.001)\n",
        "  else:\n",
        "    vector = np.zeros((100,))\n",
        "\n",
        "  sentence_vectors.append(vector)"
      ],
      "metadata": {
        "id": "t3iwHlwb4pmj"
      },
      "execution_count": 27,
      "outputs": []
    },
    {
      "cell_type": "code",
      "source": [
        "# similarity matrix\n",
        "sim_mat = np.zeros([len(sentences), len(sentences)])"
      ],
      "metadata": {
        "id": "l9eUhKk8614m"
      },
      "execution_count": 28,
      "outputs": []
    },
    {
      "cell_type": "code",
      "source": [
        "from sklearn.metrics.pairwise import cosine_similarity"
      ],
      "metadata": {
        "id": "-YeZnWl4653U"
      },
      "execution_count": 29,
      "outputs": []
    },
    {
      "cell_type": "code",
      "source": [
        "for i in range(len(clean_sentences)):\n",
        "  for j in range(len(clean_sentences)):\n",
        "    sim_mat[i][j] = cosine_similarity(sentence_vectors[i].reshape(100,1),\n",
        "                                      sentence_vectors[j].reshape(100,1))[0,0]\n"
      ],
      "metadata": {
        "id": "Kl3WARCH7Svc"
      },
      "execution_count": 33,
      "outputs": []
    },
    {
      "cell_type": "code",
      "source": [
        "import networkx as nx"
      ],
      "metadata": {
        "id": "7etD4xJB89aH"
      },
      "execution_count": 34,
      "outputs": []
    },
    {
      "cell_type": "code",
      "source": [
        "nx_graph = nx.from_numpy_array(sim_mat)\n",
        "scores = nx.pagerank(nx_graph)"
      ],
      "metadata": {
        "id": "MnfLW_Qs9Suo"
      },
      "execution_count": 37,
      "outputs": []
    },
    {
      "cell_type": "code",
      "source": [
        "scores.get(0)"
      ],
      "metadata": {
        "colab": {
          "base_uri": "https://localhost:8080/"
        },
        "id": "y2Phy-JC9V39",
        "outputId": "f0953713-c516-4a86-a6a2-78a005c7ef0b"
      },
      "execution_count": 40,
      "outputs": [
        {
          "output_type": "execute_result",
          "data": {
            "text/plain": [
              "-0.21096064267908313"
            ]
          },
          "metadata": {},
          "execution_count": 40
        }
      ]
    },
    {
      "cell_type": "code",
      "source": [
        "ranked_sentences = sorted(((scores[i],s)for i, s in enumerate(clean_sentences)),reverse=True)\n",
        "ranked_sentences"
      ],
      "metadata": {
        "colab": {
          "base_uri": "https://localhost:8080/"
        },
        "id": "3yzjaveQ9f3d",
        "outputId": "79f310e5-45f3-44a2-ca16-23df04c8065c"
      },
      "execution_count": 44,
      "outputs": [
        {
          "output_type": "execute_result",
          "data": {
            "text/plain": [
              "[(0.21349978787068744, 'victory sunday anderson qualify atp finals'),\n",
              " (0.21349978787068744, 'verdasco anderson hit nine aces opening set'),\n",
              " (0.21349978787068744,\n",
              "  'used first break point close first set going second wrapping win first match point'),\n",
              " (0.21349978787068744, 'ultimately tennis small part'),\n",
              " (0.21349978787068744, 'uhm really friendly close many players'),\n",
              " (0.21349978787068744,\n",
              "  'tuesday fly paris train afternoon ready first match wednesday night'),\n",
              " (0.21349978787068744,\n",
              "  'time grand slam winner chasing th atp title swiss indoors week faces jan lennard struff second round thursday pm bst'),\n",
              " (0.21349978787068744, 'time consult people consult'),\n",
              " (0.21349978787068744,\n",
              "  'think really nice environment great atmosphere especially veteran players helping younger players'),\n",
              " (0.21349978787068744, 'think misfiring corners hitting lines enough'),\n",
              " (0.21349978787068744, 'think every person different interests'),\n",
              " (0.21349978787068744, 'think designed anyhow'),\n",
              " (0.21349978787068744, 'tennis giveth tennis taketh away'),\n",
              " (0.21349978787068744,\n",
              "  'stands federer draw scheduled face either former world milos raonic jo wilfried tsonga second round'),\n",
              " (0.21349978787068744,\n",
              "  'speaking swiss indoors tournament play sundays final romanian qualifier marius copil world number three said given impossibly short time frame make decision opted commitment'),\n",
              " (0.21349978787068744, 'sometimes tilts emotions sometimes stumble'),\n",
              " (0.21349978787068744,\n",
              "  'serve well first round opponent filip kranjovic federer said'),\n",
              " (0.21349978787068744, 'seems pretty friendly right said davenport'),\n",
              " (0.21349978787068744, 'see happens said'),\n",
              " (0.21349978787068744, 'second seeded anderson defeated fernando verdasco'),\n",
              " (0.21349978787068744, 'say hellos sending players flowers well'),\n",
              " (0.21349978787068744,\n",
              "  'russian player problems openly speaking recent interview said really hide feelings much'),\n",
              " (0.21349978787068744,\n",
              "  'roger federer revealed organisers launched condensed davis cup gave three days decide would commit controversial competition'),\n",
              " (0.21349978787068744, 'pretty competitive girl'),\n",
              " (0.21349978787068744, 'pleasant atmosphere say around locker rooms'),\n",
              " (0.21349978787068744,\n",
              "  'novak djokovic said give precedence atp intended launch defunct world team cup january various australian venues'),\n",
              " (0.21349978787068744,\n",
              "  'nishikori leads anderson career matchups south african previous meeting year'),\n",
              " (0.21349978787068744,\n",
              "  'nishikori held serve throughout kukushkin came qualifying'),\n",
              " (0.21349978787068744,\n",
              "  'nadal could play defending champion jack sock third round potential quarter final either borna coric dominic thiem'),\n",
              " (0.21349978787068744, 'marin cilic second round'),\n",
              " (0.21349978787068744,\n",
              "  'makes incredibly happy win home tournament make people happy'),\n",
              " (0.21349978787068744,\n",
              "  'major players feel big event late november combined one january australian open mean much tennis little rest'),\n",
              " (0.21349978787068744, 'long fear injury play'),\n",
              " (0.21349978787068744,\n",
              "  'like kind pressure federer said deadline kosmos handed'),\n",
              " (0.21349978787068744,\n",
              "  'let also forget two grand slam doubles triumphs season'),\n",
              " (0.21349978787068744, 'left three days decide federer said'),\n",
              " (0.21349978787068744,\n",
              "  'know maybe last title today try lot absorb enjoy moments much consciously'),\n",
              " (0.21349978787068744, 'highly doubt course'),\n",
              " (0.21349978787068744, 'getting used'),\n",
              " (0.21349978787068744,\n",
              "  'friends completely different jobs interests met different parts life'),\n",
              " (0.21349978787068744, 'first rounds tricky'),\n",
              " (0.21349978787068744,\n",
              "  'fifth seeded nishikori reached third final beating mikhail kukushkin kazakhstan semifinals'),\n",
              " (0.21349978787068744,\n",
              "  'felt like best weeks get know players playing fed cup weeks olympic weeks necessarily tournaments'),\n",
              " (0.21349978787068744, 'felt good week better every day'),\n",
              " (0.21349978787068744,\n",
              "  'federer projected route paris final could also lead matches kevin anderson novak djokovic'),\n",
              " (0.21349978787068744,\n",
              "  'federer handed difficult draw could could come across kevin anderson novak djokovic rafael nadal latter rounds'),\n",
              " (0.21349978787068744,\n",
              "  'federer easier time previous match medvedev three setter shanghai two weeks ago'),\n",
              " (0.21349978787068744,\n",
              "  'federer dominated th ranked medvedev first match point chance break serve'),\n",
              " (0.21349978787068744,\n",
              "  'even though maybe smaller teams still think kept quite bit'),\n",
              " (0.21349978787068744,\n",
              "  'dropped serve love let another match point slip medvedev next service game netting backhand'),\n",
              " (0.21349978787068744, 'djokovic could play marco cecchinato second round'),\n",
              " (0.21349978787068744, 'designed future generation players'),\n",
              " (0.21349978787068744,\n",
              "  'davenport enjoyed success late third final major tournament win came australian open'),\n",
              " (0.21349978787068744,\n",
              "  'could lose points next weeks instead focusing negative perspective'),\n",
              " (0.21349978787068744, 'copil two also beating'),\n",
              " (0.21349978787068744,\n",
              "  'clearly make life difficult still break points things could ended quickly today even though best serve percentage stats'),\n",
              " (0.21349978787068744,\n",
              "  'british kyle edmund th seed paris get underway round two either karen khachanov filip krajinovic'),\n",
              " (0.21349978787068744,\n",
              "  'argentina britain received wild cards new look event compete along four semi finalists teams win qualifying rounds next february'),\n",
              " (0.21349978787068744,\n",
              "  'always really feel like mid years huge shift attitudes top players friendly giving lot players like roger coming'),\n",
              " (0.21349978787068744, 'always easy last weeks'),\n",
              " (0.21349978787068744,\n",
              "  'also impression stage might better play matches train'),\n",
              " (0.0012695725958021694, ''),\n",
              " (-0.21096064267908313,\n",
              "  'year old claimed th atp title hunting century french capital week'),\n",
              " (-0.21096064267908313,\n",
              "  'world forced miss spain davis cup clash france asian hard court season'),\n",
              " (-0.21096064267908313,\n",
              "  'winner atp events nishikori triumphed since winning memphis february'),\n",
              " (-0.21096064267908313,\n",
              "  'two players stefanos tsitsipas kyle edmund first career atp titles last week'),\n",
              " (-0.21096064267908313,\n",
              "  'touching moments seeing ball children standing ovations familiar faces audience'),\n",
              " (-0.21096064267908313,\n",
              "  'time grand slam champion voiced doubts wisdom one week format introduced organisers kosmos promised international tennis federation billion prize money next quarter century'),\n",
              " (-0.21096064267908313,\n",
              "  'think sport mean friends everyone categorized tennis player going get along tennis players'),\n",
              " (-0.21096064267908313,\n",
              "  'think everyone thinks tennis players greatest friends'),\n",
              " (-0.21096064267908313, 'think everyone knows job'),\n",
              " (-0.21096064267908313,\n",
              "  'spaniard broke anderson twice second get another chance south african serve final set'),\n",
              " (-0.21096064267908313,\n",
              "  'singapore one biggest storylines aside matches course court coaching debate'),\n",
              " (-0.21096064267908313,\n",
              "  'seeking ninth title hometown event th overall federer play th ranked marius copil sunday'),\n",
              " (-0.21096064267908313,\n",
              "  'secret jack sock struggled singles court year record'),\n",
              " (-0.21096064267908313, 'said really close lot players something strategic'),\n",
              " (-0.21096064267908313,\n",
              "  'romanian aims first title arriving basel without career win top opponent'),\n",
              " (-0.21096064267908313,\n",
              "  'paris masters draw made nadal start campaign tuesday wednesday either fernando verdasco jeremy chardy'),\n",
              " (-0.21096064267908313,\n",
              "  'nina irina give opinions coaching look like future tours'),\n",
              " (-0.21096064267908313,\n",
              "  'nadal played tennis since forced retire us open semi finals juan martin del porto knee injury'),\n",
              " (-0.21096064267908313,\n",
              "  'nadal flew paris friday footage paris masters official twitter account shows spaniard smiling strides onto court practice'),\n",
              " (-0.21096064267908313,\n",
              "  'nadal appearance paris big boost tournament organisers could see roger federer withdraw'),\n",
              " (-0.21096064267908313,\n",
              "  'monday free look feel federer said winning swiss indoors'),\n",
              " (-0.21096064267908313,\n",
              "  'meanwhile federer hoping improve service game hunts ninth swiss indoors title week'),\n",
              " (-0.21096064267908313, 'means world'),\n",
              " (-0.21096064267908313, 'maybe exactly caught eventually'),\n",
              " (-0.21096064267908313, 'maybe celebrate last title'),\n",
              " (-0.21096064267908313,\n",
              "  'maria sharapova basically friends tennis players wta tour'),\n",
              " (-0.21096064267908313, 'many things interested'),\n",
              " (-0.21096064267908313, 'lot friends away courts'),\n",
              " (-0.21096064267908313, 'lost eight straight finals since'),\n",
              " (-0.21096064267908313,\n",
              "  'kosmos headed barcelona footballer gerard pique hoping fellow spaniard rafael nadal play upcoming event'),\n",
              " (-0.21096064267908313,\n",
              "  'kei nishikori try end long losing streak atp finals kevin anderson go second title year erste bank open sunday'),\n",
              " (-0.21096064267908313,\n",
              "  'irina looks back wta title win bogota tells unforgettable story semifinal drama'),\n",
              " (-0.21096064267908313,\n",
              "  'first time grand slam winner wants train paris masters court afternoon deciding whether appear opening match either milos raonic jo wilfried tsonga'),\n",
              " (-0.21096064267908313,\n",
              "  'felt like really kind changed people little bit definitely lot quiet started become better'),\n",
              " (-0.21096064267908313,\n",
              "  'federer swiss indoors last week beating romanian qualifier marius copil final'),\n",
              " (-0.21096064267908313,\n",
              "  'federer success basel last week ninth time hometown tournament'),\n",
              " (-0.21096064267908313,\n",
              "  'federer said earlier month shanghai chances playing davis cup non existent'),\n",
              " (-0.21096064267908313,\n",
              "  'federer first broke tour two decades ago since gone enjoy glittering career'),\n",
              " (-0.21096064267908313,\n",
              "  'federer action swiss indoors basel reaches final could pull paris bid stay fresh london'),\n",
              " (-0.21096064267908313,\n",
              "  'end season finally sight many players defending losing huge chunks points singapore zhuhai london podcast co hosts nina pantic irina falconi discuss art defending points'),\n",
              " (-0.21096064267908313, 'different men tour women tour'),\n",
              " (-0.21096064267908313,\n",
              "  'delighted watched family friends purchased tickets final dearest'),\n",
              " (-0.21096064267908313,\n",
              "  'currently ninth place nishikori win could move within points cut eight man event london next month'),\n",
              " (-0.21096064267908313,\n",
              "  'courts court playing competitor want beat every single person whether locker room across net one strike conversation weather know next minutes go try win tennis match'),\n",
              " (-0.21096064267908313, 'could make decision time told wanted'),\n",
              " (-0.21096064267908313,\n",
              "  'copil upset expectations federer final alexander zverev win fifth ranked german earlier semifinal'),\n",
              " (-0.21096064267908313,\n",
              "  'copil fired aces past zverev never dropped serve clinching hours forehand volley winner break zverev second time semifinal'),\n",
              " (-0.21096064267908313,\n",
              "  'competition set feature countries november finals madrid next year replace classic home away ties played four times per year decades'),\n",
              " (-0.21096064267908313, 'clinched fourth chance medvedev netted baseline'),\n",
              " (-0.21096064267908313,\n",
              "  'claims mentality professional tennis players slowly began change new millennium'),\n",
              " (-0.21096064267908313, 'children parents sister team federer added'),\n",
              " (-0.21096064267908313,\n",
              "  'came two rounds qualifying last weekend reach basel main draw including beating zverev older brother mischa'),\n",
              " (-0.21096064267908313, 'big deal never forget first'),\n",
              " (-0.21096064267908313,\n",
              "  'basel switzerland ap roger federer advanced th swiss indoors final career beating seventh seeded daniil medvedev saturday'),\n",
              " (-0.21096064267908313,\n",
              "  'atp world tour finals due begin next month nadal ready prove fitness season ending event arena'),\n",
              " (-0.21096064267908313,\n",
              "  'anderson shot fifth career title second year winning new york february'),\n",
              " (-0.21096064267908313, 'always emotional thank team')]"
            ]
          },
          "metadata": {},
          "execution_count": 44
        }
      ]
    },
    {
      "cell_type": "code",
      "source": [
        "# Extract top 10 sentences as the summary\n",
        "for i in range(10):\n",
        "  print(ranked_sentences[i][1])\n"
      ],
      "metadata": {
        "colab": {
          "base_uri": "https://localhost:8080/"
        },
        "id": "XJ02Jzly9rSn",
        "outputId": "c4a99170-d21e-4b72-c042-97668e386498"
      },
      "execution_count": 45,
      "outputs": [
        {
          "output_type": "stream",
          "name": "stdout",
          "text": [
            "victory sunday anderson qualify atp finals\n",
            "verdasco anderson hit nine aces opening set\n",
            "used first break point close first set going second wrapping win first match point\n",
            "ultimately tennis small part\n",
            "uhm really friendly close many players\n",
            "tuesday fly paris train afternoon ready first match wednesday night\n",
            "time grand slam winner chasing th atp title swiss indoors week faces jan lennard struff second round thursday pm bst\n",
            "time consult people consult\n",
            "think really nice environment great atmosphere especially veteran players helping younger players\n",
            "think misfiring corners hitting lines enough\n"
          ]
        }
      ]
    },
    {
      "cell_type": "code",
      "source": [],
      "metadata": {
        "id": "u-4gdQZ1-MV_"
      },
      "execution_count": null,
      "outputs": []
    }
  ]
}